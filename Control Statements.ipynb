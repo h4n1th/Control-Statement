{
 "cells": [
  {
   "cell_type": "code",
   "execution_count": 10,
   "id": "4787589d-af9a-4e2e-b426-4c7ffedee964",
   "metadata": {},
   "outputs": [
    {
     "name": "stdout",
     "output_type": "stream",
     "text": [
      "0\n",
      "1\n",
      "2\n",
      "3\n",
      "4\n"
     ]
    }
   ],
   "source": [
    "#while loop\n",
    "count=0\n",
    "while count<5:\n",
    "    print(count)\n",
    "    count+=1"
   ]
  },
  {
   "cell_type": "code",
   "execution_count": 11,
   "id": "1330b125-5e80-4d5c-bf70-6a00213ac54d",
   "metadata": {},
   "outputs": [],
   "source": [
    "#While loop with False condition\n",
    "count=6\n",
    "while count<5:\n",
    "    print(count)\n",
    "    count+=1"
   ]
  },
  {
   "cell_type": "code",
   "execution_count": 12,
   "id": "7e62bb10-9056-4388-ae99-c82dc944da42",
   "metadata": {},
   "outputs": [
    {
     "name": "stdout",
     "output_type": "stream",
     "text": [
      "Condition not satisfying\n"
     ]
    }
   ],
   "source": [
    "#While loop with else statement\n",
    "count=6\n",
    "while count<5:\n",
    "    print(count)\n",
    "    count+=1\n",
    "else:\n",
    "    print('Condition not satisfying')"
   ]
  },
  {
   "cell_type": "code",
   "execution_count": 13,
   "id": "449c459d-f662-420f-82de-c4a945fc4db5",
   "metadata": {},
   "outputs": [
    {
     "name": "stdout",
     "output_type": "stream",
     "text": [
      "0\n",
      "1\n"
     ]
    }
   ],
   "source": [
    "#Using break statement\n",
    "count=0\n",
    "while count<5:\n",
    "    if count==2:\n",
    "        break\n",
    "    print(count)\n",
    "    count+=1\n"
   ]
  },
  {
   "cell_type": "code",
   "execution_count": 1,
   "id": "153b9c8b-fa07-4552-882e-388f55aec26d",
   "metadata": {},
   "outputs": [
    {
     "name": "stdout",
     "output_type": "stream",
     "text": [
      "1\n",
      "2\n",
      "4\n",
      "5\n"
     ]
    }
   ],
   "source": [
    "count=0\n",
    "while count<5:\n",
    "    count+=1\n",
    "    if count==3:\n",
    "        continue\n",
    "    print(count)\n",
    "   "
   ]
  },
  {
   "cell_type": "code",
   "execution_count": 4,
   "id": "be7bc154-b747-4e3a-aaa0-669c6c274d78",
   "metadata": {},
   "outputs": [
    {
     "name": "stdout",
     "output_type": "stream",
     "text": [
      "0\n",
      "1\n",
      "2\n",
      "3\n",
      "4\n",
      "5\n",
      "6\n",
      "7\n",
      "8\n",
      "9\n",
      "10\n",
      "11\n",
      "12\n",
      "13\n",
      "14\n"
     ]
    }
   ],
   "source": [
    "#For loop\n",
    "for i in range(15):\n",
    "    print(i)\n",
    "    "
   ]
  },
  {
   "cell_type": "code",
   "execution_count": 6,
   "id": "687af8fd-44b3-484e-9c42-0385d5d6c743",
   "metadata": {},
   "outputs": [
    {
     "name": "stdout",
     "output_type": "stream",
     "text": [
      "0\n",
      "1\n",
      "2\n",
      "4\n"
     ]
    }
   ],
   "source": [
    "for i in range(5):\n",
    "    if i==3:\n",
    "        continue\n",
    "    print(i)"
   ]
  },
  {
   "cell_type": "code",
   "execution_count": 10,
   "id": "ddfe64d4-446e-46fd-86dd-9551a57739fe",
   "metadata": {},
   "outputs": [
    {
     "name": "stdout",
     "output_type": "stream",
     "text": [
      "0 apple\n",
      "1 banana\n",
      "2 orange\n",
      "3 cherry\n",
      "4 grapes\n"
     ]
    }
   ],
   "source": [
    "#Enumerate\n",
    "fruit=['apple','banana','orange','cherry','grapes']\n",
    "for index,i in enumerate (fruit):\n",
    "    print(index,i)"
   ]
  },
  {
   "cell_type": "code",
   "execution_count": null,
   "id": "ff839a88-8418-42cf-bdb9-532dda3f8134",
   "metadata": {},
   "outputs": [],
   "source": []
  }
 ],
 "metadata": {
  "kernelspec": {
   "display_name": "Python 3 (ipykernel)",
   "language": "python",
   "name": "python3"
  },
  "language_info": {
   "codemirror_mode": {
    "name": "ipython",
    "version": 3
   },
   "file_extension": ".py",
   "mimetype": "text/x-python",
   "name": "python",
   "nbconvert_exporter": "python",
   "pygments_lexer": "ipython3",
   "version": "3.13.5"
  }
 },
 "nbformat": 4,
 "nbformat_minor": 5
}
