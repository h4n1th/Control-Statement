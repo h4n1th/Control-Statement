{
 "cells": [
  {
   "cell_type": "raw",
   "id": "5a65d46c-8f53-4e23-b6f6-c9d6be4ba30c",
   "metadata": {},
   "source": [
    "1.Check if a number is positive or negative\n",
    "2.Check if a number is positive,negative or zero\n",
    "3.Write a program to check number is even or odd\n",
    "4.Find the largest of two numbers\n",
    "5.Print the number from 1 to 10 using for loop\n",
    "6.Print even numbers between 1 and 10 using while loop\n",
    "7.Write a loop that breaks when number reaches 5\n",
    "8.Check if a given year is a leap year\n",
    "9.Check if a number is positive and then check if it's even or odd\n",
    "10.Print the sum of first 10 natural numbers using while"
   ]
  },
  {
   "cell_type": "code",
   "execution_count": 6,
   "id": "b152229a-e471-4a6c-bee0-6ae3aadf3e5e",
   "metadata": {},
   "outputs": [
    {
     "name": "stdin",
     "output_type": "stream",
     "text": [
      "Enter a number 5\n"
     ]
    },
    {
     "name": "stdout",
     "output_type": "stream",
     "text": [
      "The number is POSITIVE\n"
     ]
    }
   ],
   "source": [
    "#Check if a number is positive or negative\n",
    "user1=int(input('Enter a number'))\n",
    "if user1>1:\n",
    "    print('The number is POSITIVE')\n",
    "else:\n",
    "    print('The number is NEGATIVE')"
   ]
  },
  {
   "cell_type": "code",
   "execution_count": 8,
   "id": "011a6bc7-9397-498a-af84-1a09e6855020",
   "metadata": {},
   "outputs": [
    {
     "name": "stdin",
     "output_type": "stream",
     "text": [
      "Enter a number -1\n"
     ]
    },
    {
     "name": "stdout",
     "output_type": "stream",
     "text": [
      "The number is NEGATIVE\n"
     ]
    }
   ],
   "source": [
    "#Check if a number is positive,negative or zero\n",
    "user2=int(input('Enter a number'))\n",
    "if user2>1:\n",
    "    print('The number is POSITIVE')\n",
    "elif user2==0:\n",
    "    print('The number is ZERO')\n",
    "else:\n",
    "    print('The number is NEGATIVE')"
   ]
  },
  {
   "cell_type": "code",
   "execution_count": 10,
   "id": "cbee7b51-85b0-4acd-aa19-c298c8bbe6a2",
   "metadata": {},
   "outputs": [
    {
     "name": "stdin",
     "output_type": "stream",
     "text": [
      "Enter the Number 2\n"
     ]
    },
    {
     "name": "stdout",
     "output_type": "stream",
     "text": [
      "The number is Even\n"
     ]
    }
   ],
   "source": [
    "#Write a program to check number is even or odd\n",
    "user3=int(input('Enter the Number'))\n",
    "if user3%2==0:\n",
    "    print('The number is Even')\n",
    "else:\n",
    "    print('The number is Odd')"
   ]
  },
  {
   "cell_type": "code",
   "execution_count": 11,
   "id": "e8f93c9f-3ec6-45ad-9bda-c4fcb3e216db",
   "metadata": {},
   "outputs": [
    {
     "name": "stdin",
     "output_type": "stream",
     "text": [
      "Enter the 1st Number 1\n",
      "Enter the 2nd Number 2\n"
     ]
    },
    {
     "name": "stdout",
     "output_type": "stream",
     "text": [
      "2 is Larger\n"
     ]
    }
   ],
   "source": [
    "#Find the largest of two numbers\n",
    "a=int(input('Enter the 1st Number'))\n",
    "b=int(input('Enter the 2nd Number'))\n",
    "if a>b:\n",
    "    print(a,'is Larger')\n",
    "else:\n",
    "    print(b,'is Larger')"
   ]
  },
  {
   "cell_type": "code",
   "execution_count": 13,
   "id": "2c97988a-a04e-4767-809a-4dc77809cf73",
   "metadata": {},
   "outputs": [
    {
     "name": "stdout",
     "output_type": "stream",
     "text": [
      "1\n",
      "2\n",
      "3\n",
      "4\n",
      "5\n",
      "6\n",
      "7\n",
      "8\n",
      "9\n",
      "10\n"
     ]
    }
   ],
   "source": [
    "#Print the number from 1 to 10 using for loop\n",
    "for i in range(11):\n",
    "    if i==0:\n",
    "        continue\n",
    "    print(i)"
   ]
  },
  {
   "cell_type": "code",
   "execution_count": 1,
   "id": "c9073aa6-b2ef-42c5-894f-814a5df25027",
   "metadata": {},
   "outputs": [
    {
     "name": "stdout",
     "output_type": "stream",
     "text": [
      "2\n",
      "4\n",
      "6\n",
      "8\n",
      "10\n"
     ]
    }
   ],
   "source": [
    "#Print even numbers between 1 and 10 using while loop\n",
    "count=1\n",
    "while count<11:\n",
    "    if count%2==0:\n",
    "        print(count)\n",
    "    count+=1"
   ]
  },
  {
   "cell_type": "code",
   "execution_count": 15,
   "id": "ded8e1ca-b986-494c-a1ad-a0ff466d811f",
   "metadata": {},
   "outputs": [
    {
     "name": "stdout",
     "output_type": "stream",
     "text": [
      "0\n",
      "1\n",
      "2\n",
      "3\n",
      "4\n",
      "5\n"
     ]
    }
   ],
   "source": [
    "#Write a loop that breaks when number reaches 5\n",
    "for i in range(6):\n",
    "    print(i)"
   ]
  },
  {
   "cell_type": "code",
   "execution_count": 6,
   "id": "3e10f41c-74cf-4e62-987e-c65e05a28f0b",
   "metadata": {},
   "outputs": [
    {
     "name": "stdin",
     "output_type": "stream",
     "text": [
      "Enter the year 2020\n"
     ]
    },
    {
     "name": "stdout",
     "output_type": "stream",
     "text": [
      "2020 is a LEAP YEAR\n"
     ]
    }
   ],
   "source": [
    "#Check if a given year is a leap year\n",
    "user8=int(input('Enter the year'))\n",
    "if user8%4==0:\n",
    "    print(user8,'is a LEAP YEAR')\n",
    "else:\n",
    "    print('It is not a LEAP YEAR')"
   ]
  },
  {
   "cell_type": "code",
   "execution_count": 10,
   "id": "7a7df442-5ae3-4214-ad9b-647a7cce1109",
   "metadata": {},
   "outputs": [
    {
     "name": "stdin",
     "output_type": "stream",
     "text": [
      "Enter a Number: 23\n"
     ]
    },
    {
     "name": "stdout",
     "output_type": "stream",
     "text": [
      "The given number is POSITIVE and an ODD\n"
     ]
    }
   ],
   "source": [
    "#Check if a number is positive and then check if it's even or odd\n",
    "user9=int(input('Enter a Number:'))\n",
    "if user9>1:\n",
    "    if user9%2==0:\n",
    "        print('The given number is POSITIVE and an EVEN')\n",
    "    else:\n",
    "        print('The given number is POSITIVE and an ODD')\n",
    "else:\n",
    "    print('The given number is NEGATIVE')"
   ]
  },
  {
   "cell_type": "code",
   "execution_count": 5,
   "id": "9ac6d3c0-16de-44c5-917d-6816230e139d",
   "metadata": {},
   "outputs": [
    {
     "name": "stdout",
     "output_type": "stream",
     "text": [
      "55\n"
     ]
    }
   ],
   "source": [
    "#Print the sum of first 10 natural numbers using while\n",
    "count=1\n",
    "total=0\n",
    "while count<=10:\n",
    "    total=total+count\n",
    "    count+=1\n",
    "print(total)"
   ]
  },
  {
   "cell_type": "code",
   "execution_count": null,
   "id": "9444c9b2-a6c1-463a-a02a-e2a1ed67c5e6",
   "metadata": {},
   "outputs": [],
   "source": []
  }
 ],
 "metadata": {
  "kernelspec": {
   "display_name": "Python 3 (ipykernel)",
   "language": "python",
   "name": "python3"
  },
  "language_info": {
   "codemirror_mode": {
    "name": "ipython",
    "version": 3
   },
   "file_extension": ".py",
   "mimetype": "text/x-python",
   "name": "python",
   "nbconvert_exporter": "python",
   "pygments_lexer": "ipython3",
   "version": "3.13.5"
  }
 },
 "nbformat": 4,
 "nbformat_minor": 5
}
